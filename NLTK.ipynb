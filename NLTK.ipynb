{
 "cells": [
  {
   "cell_type": "code",
   "execution_count": null,
   "metadata": {
    "pycharm": {
     "is_executing": true
    }
   },
   "outputs": [],
   "source": [
    "# libraries importeren\n",
    "import nltk\n",
    "from nltk import CFG, grammar, parse, word_tokenize\n",
    "from nltk.grammar import FeatureGrammar\n",
    "from nltk.parse import RecursiveDescentParser, FeatureEarleyChartParser\n",
    "from nltk.parse.generate import generate\n",
    "\n",
    "# functies uit huiswerk\n",
    "def check_sentence(parser, sentence):\n",
    "    print(\"--------------------------------------------------\")\n",
    "    print(\"Checking ife provided sentence matches the grammar:\")\n",
    "    print(sentence)\n",
    "    if isinstance(sentence, str):\n",
    "        sentence = sentence.split()\n",
    "    tree_found = False\n",
    "    results = parser.parse(sentence)\n",
    "    for tree in results:\n",
    "        tree_found = True\n",
    "        print(tree)\n",
    "    if not tree_found:\n",
    "        print(sentence, \"Does not match the provided grammar.\")\n",
    "    print(\"--------------------------------------------------\")\n",
    "    return tree_found\n",
    "\n",
    "Test1 = FeatureGrammar.fromstring(\n",
    "    # Van internet gepakt\n",
    "    \"\"\"\n",
    "\n",
    "\n",
    "\n",
    "    \"\"\"\n",
    ")\n",
    "# parse hier een string voor een parse tree en alternatieve zinnen\n",
    "Test1_parser = FeatureEarleyChartParser(Test1)\n",
    "# for t in Test1_parser.parse(\"I returned a book to the library\".split()):\n",
    "#     print(t)\n",
    "#\n",
    "#\n",
    "#     for t in Test1_parser.parse(\"I returned a book to the library\".split()):print(t)\n",
    "\n",
    "for s in generate(Test1, n = 10):\n",
    "   if len(list(Test1_parser.parse(s))) != 0:\n",
    "       print(' '.join(s))"
   ]
  },
  {
   "cell_type": "code",
   "execution_count": 2,
   "metadata": {
    "pycharm": {
     "name": "#%%\n"
    }
   },
   "outputs": [
    {
     "ename": "IndentationError",
     "evalue": "expected an indented block (<ipython-input-2-b0396d315dde>, line 40)",
     "output_type": "error",
     "traceback": [
      "\u001B[1;36m  File \u001B[1;32m\"<ipython-input-2-b0396d315dde>\"\u001B[1;36m, line \u001B[1;32m40\u001B[0m\n\u001B[1;33m    from nltk import CFG\u001B[0m\n\u001B[1;37m    ^\u001B[0m\n\u001B[1;31mIndentationError\u001B[0m\u001B[1;31m:\u001B[0m expected an indented block\n"
     ]
    }
   ],
   "source": [
    "# Gebruik deze code om woorden van de corpus te categorizeren.\n",
    "# Packages\n",
    "import nltk\n",
    "from nltk import CFG, grammar, parse, word_tokenize\n",
    "nltk.download('punkt')\n",
    "nltk.download('averaged_perceptron_tagger')\n",
    "\n",
    "# dictionary in het formaat: wordclass: [woord1, woord2, etc]\n",
    "chess_dictionary = dict()\n",
    "\n",
    "# toevoegen van woorden\n",
    "def add_chess_dict(rules, left, right):\n",
    "    # If the key does not already exist, initialize it with a list.\n",
    "    if left not in rules:\n",
    "        rules[left] = []\n",
    "    if right  not in rules[left]:\n",
    "        rules[left].append(right)\n",
    "\n",
    "# open hier de corpus!\n",
    "with open(\"chessrules.txt\", \"r\") as a_file:\n",
    "  # itereer door iedere lijn\n",
    "  for line in a_file:\n",
    "    stripped_line = line.strip()\n",
    "    line = word_tokenize(stripped_line)\n",
    "    tagged_line = nltk.pos_tag(line)\n",
    "    # itereer door de gemaakte pairs\n",
    "    for pairs in tagged_line:\n",
    "        add_chess_dict(chess_dictionary, pairs[1], pairs[0])\n",
    "\n",
    "# Gebruik dit voor de ouput\n",
    "for keys,values in chess_dictionary.items():\n",
    "    print(keys)\n",
    "    print(values)\n",
    "\n",
    "\n",
    "#############################################################\n",
    "\n",
    "\n",
    "\n"
   ]
  },
  {
   "cell_type": "code",
   "execution_count": null,
   "metadata": {
    "pycharm": {
     "is_executing": true,
     "name": "#%%\n"
    }
   },
   "outputs": [],
   "source": [
    "import nltk\n",
    "\n",
    "from nltk import CFG, grammar, parse, word_tokenize\n",
    "nltk.download('punkt')\n",
    "\n",
    "f = open('chessrules.txt')\n",
    "for line in f:\n",
    "    print(line.strip())\n"
   ]
  },
  {
   "cell_type": "code",
   "execution_count": null,
   "metadata": {
    "pycharm": {
     "is_executing": true,
     "name": "#%%\n"
    }
   },
   "outputs": [],
   "source": [
    "import nltk\n",
    "\n",
    "# Define the cfg grammar.\n",
    "grammar = CFG.fromstring(\"\"\"\n",
    "S -> NP VP\n",
    "NP -> 'DT' 'NN'\n",
    "VP -> 'VB'\n",
    "VP -> 'VB' 'NN'\n",
    "\"\"\")\n",
    "\n",
    "\n",
    "# Make your POS sentence into a list of tokens.\n",
    "sentence = \"DT NN VB NN\".split(\" \")\n",
    "\n",
    "# Load the grammar into the ChartParser.\n",
    "cp = nltk.ChartParser(grammar)\n",
    "\n",
    "# Generate and print the nbest_parse from the grammar given the sentence tokens.\n",
    "for tree in cp.nbest_parse(sentence):\n",
    "    print (tree)"
   ]
  },
  {
   "cell_type": "code",
   "execution_count": 5,
   "outputs": [
    {
     "name": "stdout",
     "output_type": "stream",
     "text": [
      "rbr both each lady and horizontally go horizontally\n",
      "ã”â¯utward never from wants same or queen\n",
      "to prps special capturing tower fields to make all crosses during seventh steps ?\n",
      "each over straight jump rook prps turns g1 .\n",
      "between an â» plays still no color .\n",
      "by a sixteen double kind jumped where first .\n",
      "or 4 5 ladies there . contain stand rbr prps a1 b1 during ?\n",
      "or rbr mandatory squares king never both that black crosses or the steps ?\n",
      "and rbr prps following rooks may vertically perform a conditions to another conditions !\n",
      "this rbr start an ã”â¯utward\n",
      "their over long second tower have 1 2 capabilities out there .\n",
      "alternately eight left right following rows lower\n",
      "rbr , a d1 space rook diagonally prps letter e1 vertically same !\n",
      "not , any â» given eight 6 bishops with 64 .\n",
      "with a â» , there be over top !\n",
      "or , an ã”â¯utward start or there over or if queen king .\n",
      "jumped and plays where first\n",
      "take all rooks there , first column\n",
      "move plays no c type on .\n",
      "must straight the bishops and knights alternately numbered !\n",
      "or and there , prps note row begins queen on both another horses ?\n",
      "over moves allowed over who !\n",
      "from , another castling space starting .\n",
      "from an pawns prps pawns containing their .\n",
      "at no double ? g prps numbered conditions left sixteen . ?\n",
      "and any ã”â¯utward jumped long ã¯ ? !\n",
      "being as or other steps\n",
      "its similarly straight cast prps capabilities and rows prps fields and conditions ?\n",
      "and crosses strikes own .\n",
      "tower or king who vertically are his yet â» â» straight\n",
      "jumped in another moves or horses ?\n",
      "over diagonally according or starting an knight g ?\n",
      "and , special pawn have at each numbered players !\n",
      "or ã”â¯utward stand prps following type ?\n",
      "prps lady does black diagonal or if prps knights !\n",
      "if an â» both this pawns ? jumped out between .\n",
      "alternately , another queen order provided containing and according who\n",
      "and another conditions or conditions described d4 and cast both the view ?\n",
      "diagonally not certain number d4 or line ahead\n",
      "or tower steps prps runner record over numbered after 4 6 horses .\n",
      "each move combination then or if the pawns cross initial and square this a1\n",
      "from prps double rooks consists that mandatory pieces and prps pawn ?\n",
      "or alternately both any straight spaces cross in ã”â¯utward and f1 piece ?\n",
      "that seventh opponent , so seventh each bishop start have of !\n",
      "prps short line , not king all bottom that ?\n",
      "or both a rooks cross another players ?\n",
      "or there stand after special !\n",
      "never that check belonging king and starting any .\n",
      "prps square c left also vertically ã¯\n",
      "and horizontally type jump any columns horse his !\n"
     ]
    }
   ],
   "source": [
    "from nltk import CFG\n",
    "from nltk.grammar import Nonterminal\n",
    "from nltk.parse import ViterbiParser\n",
    "from nltk.parse.generate import generate\n",
    "from random import choices\n",
    "from random import sample\n",
    "\n",
    "MT = 1\n",
    "N_SEN = 50\n",
    "grammar_path = \"lexical rules.txt\"\n",
    "\n",
    "\n",
    "\n",
    "\n",
    "def generate_phrase(grammar, prod = None):\n",
    "    if not prod:\n",
    "        prod = grammar.start()\n",
    "    if prod in grammar._lhs_index:\n",
    "        # Non-terminals\n",
    "        derivations = grammar._lhs_index[prod]\n",
    "        try:\n",
    "            probabilities = [d.prob() for d in derivations]\n",
    "        except AttributeError:\n",
    "            probabilities = None\n",
    "        derivation = choices(derivations, probabilities)[0]\n",
    "        # print(derivation._rhs)\n",
    "        # input()\n",
    "        for d in derivation._rhs:\n",
    "            yield from generate_phrase(grammar, d)\n",
    "    elif prod in grammar._rhs_index:\n",
    "        # Terminals\n",
    "        yield str(prod)\n",
    "\n",
    "def generate_corpus(grammar, prod = None):\n",
    "    yield list(generate_phrase(grammar, prod))\n",
    "\n",
    "\n",
    "\n",
    "if __name__ == \"__main__\":\n",
    "    rules = open(grammar_path).read()\n",
    "    grammar = CFG.fromstring(rules)\n",
    "    # print(grammar)\n",
    "    if MT == 1:\n",
    "        sentences = [next(generate_corpus(grammar, Nonterminal('S'))) for s in range(500)]\n",
    "        sentences = sample([s for s in sentences if 4 < len(s) < 15], N_SEN)\n",
    "        for s in sentences:\n",
    "            print(' '.join(s).lower())\n",
    "        # print(sentences)\n",
    "\n",
    "    if MT == 2:\n",
    "        sentences = sample([s for s in generate(grammar, start=Nonterminal('S'), depth = 8, n = 100)], N_SEN)\n",
    "        for s in sentences:\n",
    "            print(' '.join(s).lower())\n",
    "        # print(sentences)\n"
   ],
   "metadata": {
    "collapsed": false,
    "pycharm": {
     "name": "#%%\n"
    }
   }
  }
 ],
 "metadata": {
  "kernelspec": {
   "display_name": "Python 3",
   "language": "python",
   "name": "python3"
  },
  "language_info": {
   "codemirror_mode": {
    "name": "ipython",
    "version": 3
   },
   "file_extension": ".py",
   "mimetype": "text/x-python",
   "name": "python",
   "nbconvert_exporter": "python",
   "pygments_lexer": "ipython3",
   "version": "3.9.0"
  }
 },
 "nbformat": 4,
 "nbformat_minor": 1
}