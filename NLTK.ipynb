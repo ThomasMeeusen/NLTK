{
 "cells": [
  {
   "cell_type": "code",
   "execution_count": 8,
   "metadata": {
    "collapsed": true
   },
   "outputs": [
    {
     "ename": "ValueError",
     "evalue": "Grammar does not cover some of the input words: \"'book', 'library'\".",
     "output_type": "error",
     "traceback": [
      "\u001B[1;31m---------------------------------------------------------------------------\u001B[0m",
      "\u001B[1;31mValueError\u001B[0m                                Traceback (most recent call last)",
      "\u001B[1;32m<ipython-input-8-fac45fc5a660>\u001B[0m in \u001B[0;36m<module>\u001B[1;34m\u001B[0m\n\u001B[0;32m     49\u001B[0m \u001B[1;31m# parse hier een string voor een parse tree en alternatieve zinnen\u001B[0m\u001B[1;33m\u001B[0m\u001B[1;33m\u001B[0m\u001B[1;33m\u001B[0m\u001B[0m\n\u001B[0;32m     50\u001B[0m \u001B[0mTest1_parser\u001B[0m \u001B[1;33m=\u001B[0m \u001B[0mFeatureEarleyChartParser\u001B[0m\u001B[1;33m(\u001B[0m\u001B[0mTest1\u001B[0m\u001B[1;33m)\u001B[0m\u001B[1;33m\u001B[0m\u001B[1;33m\u001B[0m\u001B[0m\n\u001B[1;32m---> 51\u001B[1;33m \u001B[1;32mfor\u001B[0m \u001B[0mt\u001B[0m \u001B[1;32min\u001B[0m \u001B[0mTest1_parser\u001B[0m\u001B[1;33m.\u001B[0m\u001B[0mparse\u001B[0m\u001B[1;33m(\u001B[0m\u001B[1;34m\"I returned a book to the library\"\u001B[0m\u001B[1;33m.\u001B[0m\u001B[0msplit\u001B[0m\u001B[1;33m(\u001B[0m\u001B[1;33m)\u001B[0m\u001B[1;33m)\u001B[0m\u001B[1;33m:\u001B[0m\u001B[1;33m\u001B[0m\u001B[1;33m\u001B[0m\u001B[0m\n\u001B[0m\u001B[0;32m     52\u001B[0m     \u001B[0mprint\u001B[0m\u001B[1;33m(\u001B[0m\u001B[0mt\u001B[0m\u001B[1;33m)\u001B[0m\u001B[1;33m\u001B[0m\u001B[1;33m\u001B[0m\u001B[0m\n\u001B[0;32m     53\u001B[0m \u001B[1;33m\u001B[0m\u001B[0m\n",
      "\u001B[1;32mc:\\users\\thomas meeusen\\appdata\\local\\programs\\python\\python39\\lib\\site-packages\\nltk\\parse\\chart.py\u001B[0m in \u001B[0;36mparse\u001B[1;34m(self, tokens, tree_class)\u001B[0m\n\u001B[0;32m   1482\u001B[0m \u001B[1;33m\u001B[0m\u001B[0m\n\u001B[0;32m   1483\u001B[0m     \u001B[1;32mdef\u001B[0m \u001B[0mparse\u001B[0m\u001B[1;33m(\u001B[0m\u001B[0mself\u001B[0m\u001B[1;33m,\u001B[0m \u001B[0mtokens\u001B[0m\u001B[1;33m,\u001B[0m \u001B[0mtree_class\u001B[0m\u001B[1;33m=\u001B[0m\u001B[0mTree\u001B[0m\u001B[1;33m)\u001B[0m\u001B[1;33m:\u001B[0m\u001B[1;33m\u001B[0m\u001B[1;33m\u001B[0m\u001B[0m\n\u001B[1;32m-> 1484\u001B[1;33m         \u001B[0mchart\u001B[0m \u001B[1;33m=\u001B[0m \u001B[0mself\u001B[0m\u001B[1;33m.\u001B[0m\u001B[0mchart_parse\u001B[0m\u001B[1;33m(\u001B[0m\u001B[0mtokens\u001B[0m\u001B[1;33m)\u001B[0m\u001B[1;33m\u001B[0m\u001B[1;33m\u001B[0m\u001B[0m\n\u001B[0m\u001B[0;32m   1485\u001B[0m         \u001B[1;32mreturn\u001B[0m \u001B[0miter\u001B[0m\u001B[1;33m(\u001B[0m\u001B[0mchart\u001B[0m\u001B[1;33m.\u001B[0m\u001B[0mparses\u001B[0m\u001B[1;33m(\u001B[0m\u001B[0mself\u001B[0m\u001B[1;33m.\u001B[0m\u001B[0m_grammar\u001B[0m\u001B[1;33m.\u001B[0m\u001B[0mstart\u001B[0m\u001B[1;33m(\u001B[0m\u001B[1;33m)\u001B[0m\u001B[1;33m,\u001B[0m \u001B[0mtree_class\u001B[0m\u001B[1;33m=\u001B[0m\u001B[0mtree_class\u001B[0m\u001B[1;33m)\u001B[0m\u001B[1;33m)\u001B[0m\u001B[1;33m\u001B[0m\u001B[1;33m\u001B[0m\u001B[0m\n\u001B[0;32m   1486\u001B[0m \u001B[1;33m\u001B[0m\u001B[0m\n",
      "\u001B[1;32mc:\\users\\thomas meeusen\\appdata\\local\\programs\\python\\python39\\lib\\site-packages\\nltk\\parse\\earleychart.py\u001B[0m in \u001B[0;36mchart_parse\u001B[1;34m(self, tokens, trace)\u001B[0m\n\u001B[0;32m    355\u001B[0m \u001B[1;33m\u001B[0m\u001B[0m\n\u001B[0;32m    356\u001B[0m         \u001B[0mtokens\u001B[0m \u001B[1;33m=\u001B[0m \u001B[0mlist\u001B[0m\u001B[1;33m(\u001B[0m\u001B[0mtokens\u001B[0m\u001B[1;33m)\u001B[0m\u001B[1;33m\u001B[0m\u001B[1;33m\u001B[0m\u001B[0m\n\u001B[1;32m--> 357\u001B[1;33m         \u001B[0mself\u001B[0m\u001B[1;33m.\u001B[0m\u001B[0m_grammar\u001B[0m\u001B[1;33m.\u001B[0m\u001B[0mcheck_coverage\u001B[0m\u001B[1;33m(\u001B[0m\u001B[0mtokens\u001B[0m\u001B[1;33m)\u001B[0m\u001B[1;33m\u001B[0m\u001B[1;33m\u001B[0m\u001B[0m\n\u001B[0m\u001B[0;32m    358\u001B[0m         \u001B[0mchart\u001B[0m \u001B[1;33m=\u001B[0m \u001B[0mself\u001B[0m\u001B[1;33m.\u001B[0m\u001B[0m_chart_class\u001B[0m\u001B[1;33m(\u001B[0m\u001B[0mtokens\u001B[0m\u001B[1;33m)\u001B[0m\u001B[1;33m\u001B[0m\u001B[1;33m\u001B[0m\u001B[0m\n\u001B[0;32m    359\u001B[0m         \u001B[0mgrammar\u001B[0m \u001B[1;33m=\u001B[0m \u001B[0mself\u001B[0m\u001B[1;33m.\u001B[0m\u001B[0m_grammar\u001B[0m\u001B[1;33m\u001B[0m\u001B[1;33m\u001B[0m\u001B[0m\n",
      "\u001B[1;32mc:\\users\\thomas meeusen\\appdata\\local\\programs\\python\\python39\\lib\\site-packages\\nltk\\grammar.py\u001B[0m in \u001B[0;36mcheck_coverage\u001B[1;34m(self, tokens)\u001B[0m\n\u001B[0;32m    673\u001B[0m         \u001B[1;32mif\u001B[0m \u001B[0mmissing\u001B[0m\u001B[1;33m:\u001B[0m\u001B[1;33m\u001B[0m\u001B[1;33m\u001B[0m\u001B[0m\n\u001B[0;32m    674\u001B[0m             \u001B[0mmissing\u001B[0m \u001B[1;33m=\u001B[0m \u001B[1;34m\", \"\u001B[0m\u001B[1;33m.\u001B[0m\u001B[0mjoin\u001B[0m\u001B[1;33m(\u001B[0m\u001B[1;34m\"%r\"\u001B[0m \u001B[1;33m%\u001B[0m \u001B[1;33m(\u001B[0m\u001B[0mw\u001B[0m\u001B[1;33m,\u001B[0m\u001B[1;33m)\u001B[0m \u001B[1;32mfor\u001B[0m \u001B[0mw\u001B[0m \u001B[1;32min\u001B[0m \u001B[0mmissing\u001B[0m\u001B[1;33m)\u001B[0m\u001B[1;33m\u001B[0m\u001B[1;33m\u001B[0m\u001B[0m\n\u001B[1;32m--> 675\u001B[1;33m             raise ValueError(\n\u001B[0m\u001B[0;32m    676\u001B[0m                 \u001B[1;34m\"Grammar does not cover some of the \"\u001B[0m \u001B[1;34m\"input words: %r.\"\u001B[0m \u001B[1;33m%\u001B[0m \u001B[0mmissing\u001B[0m\u001B[1;33m\u001B[0m\u001B[1;33m\u001B[0m\u001B[0m\n\u001B[0;32m    677\u001B[0m             )\n",
      "\u001B[1;31mValueError\u001B[0m: Grammar does not cover some of the input words: \"'book', 'library'\"."
     ]
    }
   ],
   "source": [
    "# libraries importeren\n",
    "import nltk\n",
    "from nltk import CFG, grammar, parse, word_tokenize\n",
    "from nltk.grammar import FeatureGrammar\n",
    "from nltk.parse import RecursiveDescentParser, FeatureEarleyChartParser\n",
    "from nltk.parse.generate import generate\n",
    "\n",
    "# functies uit huiswerk\n",
    "def check_sentence(parser, sentence):\n",
    "    print(\"--------------------------------------------------\")\n",
    "    print(\"Checking ife provided sentence matches the grammar:\")\n",
    "    print(sentence)\n",
    "    if isinstance(sentence, str):\n",
    "        sentence = sentence.split()\n",
    "    tree_found = False\n",
    "    results = parser.parse(sentence)\n",
    "    for tree in results:\n",
    "        tree_found = True\n",
    "        print(tree)\n",
    "    if not tree_found:\n",
    "        print(sentence, \"Does not match the provided grammar.\")\n",
    "    print(\"--------------------------------------------------\")\n",
    "    return tree_found\n",
    "\n",
    "Test1 = FeatureGrammar.fromstring(\n",
    "    \"\"\"\n",
    "    S -> NP VP\n",
    "    NP -> Det Nom\n",
    "    NP -> Pro\n",
    "    NP -> PN\n",
    "    Nom -> N\n",
    "    Nom -> Nom PP\n",
    "    VP -> V NP\n",
    "    VP -> V PP\n",
    "    VP -> V NP PP\n",
    "    PP -> P NP\n",
    "\n",
    "    N[NUM=sg] -> \"toren\"|\"koning\"|\"dame\"|\"pion\"|\"paard\"|\"loper\"|\"tegenstander\"|\"pat\"\n",
    "    N[NUM=pl] ->\n",
    "    V -> \"is\"| \"read\"|\"returned\"\n",
    "    Pro -> \"I\"|\"you\"\n",
    "    PN -> \"FST\"|\"Linguistics\"\n",
    "    Det -> \"the\"|\"this\"|\"a\"\n",
    "    P -> \"to\"|\"about\"|\"in\"|\"on\"\n",
    "\n",
    "\n",
    "    \"\"\"\n",
    ")\n",
    "# parse hier een string voor een parse tree en alternatieve zinnen\n",
    "Test1_parser = FeatureEarleyChartParser(Test1)\n",
    "for t in Test1_parser.parse(\"I returned a book to the library\".split()):\n",
    "    print(t)\n",
    "\n",
    "\n",
    "    for t in Test1_parser.parse(\"I returned a book to the library\".split()):print(t)\n",
    "\n",
    "    for s in generate(Test1, n = 10):\n",
    "       if len(list(Test1_parser.parse(s))) != 0:\n",
    "           print(' '.join(s))"
   ]
  },
  {
   "cell_type": "code",
   "execution_count": 15,
   "outputs": [
    {
     "name": "stdout",
     "output_type": "stream",
     "text": [
      "[('ï', 'JJ'), ('»', 'NNP'), ('¿chess', 'NN'), ('is', 'VBZ'), ('a', 'DT'), ('game', 'NN'), ('played', 'VBN'), ('by', 'IN'), ('two', 'CD'), ('players', 'NNS')]\n",
      "[('one', 'CD'), ('player', 'NN'), ('plays', 'VBZ'), ('with', 'IN'), ('the', 'DT'), ('white', 'JJ'), ('pieces', 'NNS'), ('and', 'CC'), ('the', 'DT'), ('other', 'JJ'), ('player', 'NN'), ('plays', 'NNS'), ('with', 'IN'), ('the', 'DT'), ('black', 'JJ'), ('pieces', 'NNS')]\n",
      "[('each', 'DT'), ('player', 'NN'), ('has', 'VBZ'), ('sixteen', 'JJ'), ('pieces', 'NNS'), ('at', 'IN'), ('the', 'DT'), ('beginning', 'NN'), ('of', 'IN'), ('the', 'DT'), ('game', 'NN'), (':', ':'), ('a', 'DT'), ('king', 'NN'), (',', ','), ('a', 'DT'), ('queen', 'JJ'), (',', ','), ('two', 'CD'), ('rooks', 'NNS'), (',', ','), ('two', 'CD'), ('bishops', 'NNS'), (',', ','), ('two', 'CD'), ('knights', 'NNS'), ('and', 'CC'), ('eight', 'CD'), ('pawns', 'NNS')]\n",
      "[('the', 'DT'), ('game', 'NN'), ('is', 'VBZ'), ('played', 'VBN'), ('on', 'IN'), ('a', 'DT'), ('chessboard', 'NN')]\n",
      "[('the', 'DT'), ('chessboard', 'NN'), ('has', 'VBZ'), ('64', 'CD'), ('fields', 'NNS'), (':', ':'), ('eight', 'CD'), ('rows', 'NNS'), ('and', 'CC'), ('eight', 'CD'), ('columns', 'NNS')]\n",
      "[('the', 'DT'), ('fields', 'NNS'), ('are', 'VBP'), ('alternately', 'RB'), ('colored', 'VBN'), ('white', 'JJ'), ('and', 'CC'), ('black', 'JJ')]\n",
      "[('the', 'DT'), ('board', 'NN'), ('must', 'MD'), ('be', 'VB'), ('laid', 'VBN'), ('out', 'RP'), ('so', 'RB'), ('that', 'IN'), ('there', 'EX'), ('is', 'VBZ'), ('a', 'DT'), ('black', 'JJ'), ('field', 'NN'), ('in', 'IN'), ('the', 'DT'), ('lower', 'JJR'), ('left', 'VBD'), ('corner', 'NN')]\n",
      "[('in', 'IN'), ('order', 'NN'), ('to', 'TO'), ('record', 'NN'), ('moves', 'NNS'), (',', ','), ('all', 'DT'), ('fields', 'NNS'), ('have', 'VBP'), ('been', 'VBN'), ('given', 'VBN'), ('names', 'NNS')]\n",
      "[('as', 'IN'), ('seen', 'VBN'), ('from', 'IN'), ('the', 'DT'), ('white', 'JJ'), ('player', 'NN'), (\"'s\", 'POS'), ('point', 'NN'), ('of', 'IN'), ('view', 'NN'), (',', ','), ('the', 'DT'), ('rows', 'NNS'), ('are', 'VBP'), ('numbered', 'JJ'), ('1', 'CD'), (',', ','), ('2', 'CD'), (',', ','), ('3', 'CD'), (',', ','), ('4', 'CD'), (',', ','), ('5', 'CD'), (',', ','), ('6', 'CD'), (',', ','), ('7', 'CD'), (',', ','), ('8', 'CD'), (';', ':'), ('the', 'DT'), ('bottom', 'NN'), ('row', 'NN'), ('is', 'VBZ'), ('numbered', 'JJ'), ('1', 'CD'), (',', ','), ('and', 'CC'), ('the', 'DT'), ('top', 'JJ'), ('row', 'NN'), ('is', 'VBZ'), ('numbered', 'JJ'), ('8', 'CD')]\n",
      "[('the', 'DT'), ('columns', 'NN'), ('are', 'VBP'), ('named', 'VBN'), (':', ':'), ('a', 'DT'), (',', ','), ('b', 'NN'), (',', ','), ('c', 'NN'), (',', ','), ('d', 'NN'), (',', ','), ('e', 'NN'), (',', ','), ('f', 'NN'), (',', ','), ('g', 'NN'), (',', ','), ('h', 'NN')]\n",
      "[('the', 'DT'), ('name', 'NN'), ('of', 'IN'), ('a', 'DT'), ('square', 'JJ'), ('consists', 'VBZ'), ('of', 'IN'), ('the', 'DT'), ('combination', 'NN'), ('of', 'IN'), ('the', 'DT'), ('letter', 'NN'), ('of', 'IN'), ('its', 'PRP$'), ('column', 'NN'), ('and', 'CC'), ('the', 'DT'), ('number', 'NN'), ('of', 'IN'), ('its', 'PRP$'), ('row', 'NN'), (';', ':'), ('for', 'IN'), ('example', 'NN'), (',', ','), ('the', 'DT'), ('square', 'NN'), ('in', 'IN'), ('the', 'DT'), ('lower', 'JJR'), ('left', 'VBD'), ('corner', 'NN'), ('(', '('), ('for', 'IN'), ('white', 'JJ'), (')', ')'), ('is', 'VBZ'), ('named', 'VBN'), ('a1', 'NN')]\n",
      "[]\n",
      "[('the', 'DT'), ('players', 'NNS'), ('take', 'VBP'), ('turns', 'NNS'), ('making', 'VBG'), ('a', 'DT'), ('move', 'NN'), (',', ','), ('starting', 'VBG'), ('with', 'IN'), ('the', 'DT'), ('white', 'JJ'), ('player', 'NN')]\n",
      "[('a', 'DT'), ('move', 'NN'), ('consists', 'VBZ'), ('of', 'IN'), ('moving', 'VBG'), ('one', 'CD'), ('of', 'IN'), ('the', 'DT'), ('player', 'NN'), (\"'s\", 'POS'), ('pieces', 'NNS'), ('to', 'TO'), ('another', 'DT'), ('square', 'NN'), (',', ','), ('according', 'VBG'), ('to', 'TO'), ('the', 'DT'), ('rules', 'NNS'), ('that', 'WDT'), ('say', 'VBP'), ('how', 'WRB'), ('that', 'DT'), ('piece', 'VBZ'), ('moves', 'NNS')]\n",
      "[('there', 'EX'), ('is', 'VBZ'), ('a', 'DT'), ('special', 'JJ'), ('exception', 'NN'), (',', ','), ('which', 'WDT'), ('is', 'VBZ'), ('the', 'DT'), ('castling', 'NN'), (',', ','), ('where', 'WRB'), ('in', 'IN'), ('one', 'CD'), ('move', 'NN'), ('two', 'CD'), ('pieces', 'NNS'), ('are', 'VBP'), ('moved', 'VBN'), ('at', 'IN'), ('the', 'DT'), ('same', 'JJ'), ('time', 'NN')]\n",
      "[('a', 'DT'), ('player', 'NN'), ('can', 'MD'), ('capture', 'VB'), ('an', 'DT'), ('opponent', 'NN'), (\"'s\", 'POS'), ('piece', 'NN'), ('by', 'IN'), ('moving', 'VBG'), ('one', 'CD'), ('of', 'IN'), ('his', 'PRP$'), ('own', 'JJ'), ('pieces', 'NNS'), ('to', 'TO'), ('the', 'DT'), ('square', 'NN'), ('that', 'WDT'), ('contains', 'VBZ'), ('an', 'DT'), ('opponent', 'NN'), (\"'s\", 'POS'), ('piece', 'NN')]\n",
      "[('the', 'DT'), ('opponent', 'NN'), (\"'s\", 'POS'), ('piece', 'NN'), ('is', 'VBZ'), ('then', 'RB'), ('removed', 'VBN'), ('from', 'IN'), ('the', 'DT'), ('board', 'NN'), ('and', 'CC'), ('is', 'VBZ'), ('out', 'IN'), ('of', 'IN'), ('play', 'NN'), ('for', 'IN'), ('the', 'DT'), ('rest', 'NN'), ('of', 'IN'), ('the', 'DT'), ('game', 'NN'), ('capturing', 'NN'), ('is', 'VBZ'), ('not', 'RB'), ('mandatory', 'JJ')]\n",
      "[('at', 'IN'), ('the', 'DT'), ('start', 'NN'), ('of', 'IN'), ('the', 'DT'), ('game', 'NN'), (',', ','), ('the', 'DT'), ('arrangement', 'NN'), ('of', 'IN'), ('the', 'DT'), ('pieces', 'NNS'), ('is', 'VBZ'), ('as', 'IN'), ('follows', 'VBZ')]\n",
      "[]\n",
      "[('so', 'RB'), (',', ','), ('on', 'IN'), ('the', 'DT'), ('second', 'JJ'), ('row', 'NN'), ('there', 'EX'), ('are', 'VBP'), ('eight', 'CD'), ('white', 'JJ'), ('pawns', 'NNS'), (';', ':'), ('on', 'IN'), ('the', 'DT'), ('seventh', 'JJ'), ('row', 'NN'), ('there', 'EX'), ('are', 'VBP'), ('eight', 'CD'), ('black', 'JJ'), ('pawns', 'NNS')]\n",
      "[('on', 'IN'), ('the', 'DT'), ('first', 'JJ'), ('row', 'NN'), (',', ','), ('from', 'IN'), ('left', 'VBN'), ('to', 'TO'), ('right', 'RB'), (',', ','), ('there', 'EX'), ('are', 'VBP'), (':', ':'), ('a', 'DT'), ('rook', 'NN'), (',', ','), ('knight', 'NN'), (',', ','), ('bishop', 'NN'), (',', ','), ('lady', 'NN'), (',', ','), ('king', 'NN'), (',', ','), ('bishop', 'NN'), (',', ','), ('knight', 'NN'), ('and', 'CC'), ('rook', 'NN')]\n",
      "[('note', 'NN'), ('that', 'IN'), ('in', 'IN'), ('the', 'DT'), ('initial', 'JJ'), ('setup', 'NN'), (',', ','), ('ladies', 'NNS'), ('stand', 'VBP'), ('on', 'IN'), ('squares', 'NNS'), ('of', 'IN'), ('their', 'PRP$'), ('own', 'JJ'), ('color', 'NN'), (',', ','), ('and', 'CC'), ('each', 'DT'), ('player', 'NN'), ('has', 'VBZ'), ('a', 'DT'), ('black', 'JJ'), ('square', 'NN'), ('in', 'IN'), ('the', 'DT'), ('lower', 'JJR'), ('left', 'VBD'), ('corner', 'NN')]\n",
      "[]\n",
      "[]\n",
      "[('the', 'DT'), ('tower', 'NN'), ('moves', 'NNS'), ('in', 'IN'), ('a', 'DT'), ('straight', 'JJ'), ('horizontal', 'NN'), ('or', 'CC'), ('vertical', 'JJ'), ('line', 'NN')]\n",
      "[('the', 'DT'), ('tower', 'NN'), ('may', 'MD'), ('not', 'RB'), ('jump', 'VB'), ('over', 'IN'), ('other', 'JJ'), ('pieces', 'NNS'), ('.', '.')]\n",
      "[('all', 'DT'), ('squares', 'NNS'), ('between', 'IN'), ('the', 'DT'), ('square', 'NN'), ('where', 'WRB'), ('the', 'DT'), ('tower', 'NN'), ('begins', 'VBZ'), ('its', 'PRP$'), ('move', 'NN'), ('and', 'CC'), ('where', 'WRB'), ('the', 'DT'), ('tower', 'JJR'), ('ends', 'VBZ'), ('its', 'PRP$'), ('move', 'NN'), ('must', 'MD'), ('be', 'VB'), ('empty', 'JJ')]\n",
      "[('as', 'IN'), ('with', 'IN'), ('all', 'DT'), ('pieces', 'NNS'), (',', ','), ('if', 'IN'), ('the', 'DT'), ('square', 'NN'), ('where', 'WRB'), ('the', 'DT'), ('rook', 'NN'), ('ends', 'VBZ'), ('its', 'PRP$'), ('move', 'NN'), ('contains', 'VBZ'), ('an', 'DT'), ('opponent', 'NN'), (\"'s\", 'POS'), ('piece', 'NN'), (',', ','), ('this', 'DT'), ('piece', 'NN'), ('is', 'VBZ'), ('captured', 'VBN')]\n",
      "[('the', 'DT'), ('square', 'NN'), ('where', 'WRB'), ('the', 'DT'), ('rook', 'NN'), ('ends', 'VBZ'), ('its', 'PRP$'), ('move', 'NN'), ('must', 'MD'), ('not', 'RB'), ('contain', 'VB'), ('a', 'DT'), ('piece', 'NN'), ('belonging', 'NN'), ('to', 'TO'), ('the', 'DT'), ('player', 'NN'), ('who', 'WP'), ('also', 'RB'), ('has', 'VBZ'), ('this', 'DT'), ('tower', 'NN')]\n",
      "[]\n",
      "[('the', 'DT'), ('bishop', 'NN'), ('moves', 'VBZ'), ('in', 'IN'), ('a', 'DT'), ('straight', 'JJ'), ('diagonal', 'JJ'), ('line', 'NN')]\n",
      "[('the', 'DT'), ('runner', 'NN'), ('may', 'MD'), ('also', 'RB'), ('not', 'RB'), ('jump', 'NN'), ('over', 'IN'), ('other', 'JJ'), ('pieces', 'NNS')]\n",
      "[]\n",
      "[('the', 'DT'), ('lady', 'NN'), ('has', 'VBZ'), ('the', 'DT'), ('combined', 'JJ'), ('capabilities', 'NNS'), ('of', 'IN'), ('the', 'DT'), ('rook', 'NN'), ('and', 'CC'), ('bishop', 'NN')]\n",
      "[('the', 'DT'), ('lady', 'NN'), ('can', 'MD'), ('move', 'VB'), ('in', 'IN'), ('a', 'DT'), ('horizontal', 'NN'), (',', ','), ('vertical', 'JJ'), ('or', 'CC'), ('diagonal', 'JJ'), ('straight', 'JJ'), ('line', 'NN')]\n",
      "[('again', 'RB'), (',', ','), ('the', 'DT'), ('lady', 'NN'), ('may', 'MD'), ('not', 'RB'), ('jump', 'VB'), ('over', 'IN'), ('other', 'JJ'), ('pieces', 'NNS')]\n",
      "[]\n",
      "[('the', 'DT'), ('horse', 'NN'), ('makes', 'VBZ'), ('a', 'DT'), ('move', 'NN'), ('that', 'WDT'), ('consists', 'VBZ'), ('of', 'IN'), ('first', 'JJ'), ('one', 'CD'), ('step', 'NN'), ('in', 'IN'), ('a', 'DT'), ('horizontal', 'NN'), ('or', 'CC'), ('vertical', 'JJ'), ('direction', 'NN'), ('and', 'CC'), ('then', 'RB'), ('one', 'CD'), ('step', 'NN'), ('diagonally', 'RB'), ('Ô¯utward', 'NNP'), (\"'\", 'POS')]\n",
      "[('the', 'DT'), ('move', 'NN'), ('can', 'MD'), ('also', 'RB'), ('be', 'VB'), ('described', 'VBN'), ('as', 'IN'), (':', ':'), ('two', 'CD'), ('steps', 'NNS'), ('horizontally', 'RB'), ('and', 'CC'), ('one', 'CD'), ('step', 'NN'), ('vertically', 'RB'), ('or', 'CC'), ('two', 'CD'), ('steps', 'NNS'), ('vertically', 'RB'), ('and', 'CC'), ('one', 'CD'), ('step', 'NN'), ('horizontally', 'RB')]\n",
      "[('the', 'DT'), ('horse', 'NN'), ('jumps', 'NN'), (':', ':'), ('it', 'PRP'), ('is', 'VBZ'), ('allowed', 'VBN'), ('that', 'IN'), ('the', 'DT'), ('square', 'NN'), ('which', 'WDT'), ('the', 'DT'), ('horse', 'NN'), ('passes', 'VBZ'), ('in', 'IN'), ('its', 'PRP$'), ('move', 'NN'), ('contains', 'VBZ'), ('any', 'DT'), ('piece', 'NN')]\n",
      "[('for', 'IN'), ('example', 'NN'), (',', ','), ('white', 'JJ'), ('can', 'MD'), ('start', 'VB'), ('the', 'DT'), ('game', 'NN'), ('by', 'IN'), ('moving', 'VBG'), ('his', 'PRP$'), ('knight', 'NN'), ('from', 'IN'), ('b1', 'NN'), ('to', 'TO'), ('c3', 'VB')]\n",
      "[('horses', 'NNS'), ('can', 'MD'), ('jump', 'VB'), ('over', 'RP'), ('squares', 'NNS'), ('with', 'IN'), ('a', 'DT'), ('white', 'JJ'), ('piece', 'NN'), (',', ','), ('with', 'IN'), ('a', 'DT'), ('black', 'JJ'), ('piece', 'NN'), (',', ','), ('and', 'CC'), ('also', 'RB'), ('over', 'IN'), ('empty', 'JJ'), ('squares', 'NNS')]\n",
      "[('when', 'WRB'), ('a', 'DT'), ('horse', 'NN'), ('jumps', 'NN'), ('over', 'IN'), ('a', 'DT'), ('piece', 'NN'), (',', ','), ('it', 'PRP'), ('has', 'VBZ'), ('no', 'DT'), ('effect', 'NN'), ('on', 'IN'), ('the', 'DT'), ('piece', 'NN'), ('being', 'VBG'), ('jumped', 'VBD'), ('over', 'RB'), (';', ':'), ('as', 'IN'), ('with', 'IN'), ('the', 'DT'), ('other', 'JJ'), ('pieces', 'NNS'), (',', ','), ('a', 'DT'), ('horse', 'NN'), ('captures', 'VBZ'), ('an', 'DT'), ('opponent', 'NN'), (\"'s\", 'POS'), ('piece', 'NN'), ('by', 'IN'), ('moving', 'VBG'), ('to', 'TO'), ('the', 'DT'), ('square', 'NN'), ('containing', 'VBG'), ('that', 'IN'), ('piece', 'NN')]\n",
      "[]\n",
      "[('the', 'DT'), ('pawn', 'NN'), (\"'s\", 'POS'), ('moves', 'NNS'), ('differ', 'VBP'), ('depending', 'VBG'), ('on', 'IN'), ('whether', 'IN'), ('the', 'DT'), ('pawn', 'NN'), ('moves', 'VBZ'), ('to', 'TO'), ('an', 'DT'), ('empty', 'JJ'), ('square', 'NN'), (',', ','), ('or', 'CC'), ('it', 'PRP'), ('captures', 'VBZ'), ('an', 'DT'), ('opponent', 'NN'), (\"'s\", 'POS'), ('piece', 'NN')]\n",
      "[('when', 'WRB'), ('a', 'DT'), ('pawn', 'NN'), ('does', 'VBZ'), ('not', 'RB'), ('capture', 'VB'), (',', ','), ('it', 'PRP'), ('moves', 'VBZ'), ('one', 'CD'), ('step', 'NN'), ('straight', 'RB'), ('ahead', 'RB')]\n",
      "[('if', 'IN'), ('a', 'DT'), ('pawn', 'NN'), ('has', 'VBZ'), ('not', 'RB'), ('yet', 'RB'), ('run', 'VBN'), ('at', 'IN'), ('all', 'DT'), (',', ','), ('the', 'DT'), ('pawn', 'NN'), ('is', 'VBZ'), ('still', 'RB'), ('on', 'IN'), ('the', 'DT'), ('second', 'JJ'), ('row', 'NN'), (',', ','), ('then', 'RB'), ('the', 'DT'), ('pawn', 'NN'), ('may', 'MD'), ('take', 'VB'), ('a', 'DT'), ('double', 'JJ'), ('step', 'NN'), ('straight', 'RB'), ('forward', 'RB')]\n",
      "[('for', 'IN'), ('example', 'NN'), (',', ','), ('a', 'DT'), ('pawn', 'NN'), ('or', 'CC'), ('d2', 'NN'), ('can', 'MD'), ('be', 'VB'), ('moved', 'VBN'), ('to', 'TO'), ('d4', 'VB'), (',', ','), ('provided', 'VBN'), ('field', 'NN'), ('d3', 'NN'), ('is', 'VBZ'), ('empty', 'JJ')]\n",
      "[('the', 'DT'), ('pawn', 'NN'), ('strikes', 'VBZ'), ('one', 'CD'), ('space', 'NN'), ('diagonally', 'RB'), ('forward', 'RB'), ('.', '.')]\n",
      "[]\n",
      "[]\n",
      "[('the', 'DT'), ('king', 'NN'), ('moves', 'VBZ'), ('a', 'DT'), ('square', 'NN'), ('in', 'IN'), ('any', 'DT'), ('direction', 'NN'), (':', ':'), ('horizontally', 'RB'), (',', ','), ('vertically', 'RB'), ('or', 'CC'), ('diagonally', 'RB')]\n",
      "[('there', 'EX'), ('is', 'VBZ'), ('a', 'DT'), ('special', 'JJ'), ('type', 'NN'), ('of', 'IN'), ('move', 'NN'), (',', ','), ('which', 'WDT'), ('is', 'VBZ'), ('done', 'VBN'), ('by', 'IN'), ('a', 'DT'), ('king', 'NN'), ('and', 'CC'), ('a', 'DT'), ('rook', 'NN'), ('at', 'IN'), ('the', 'DT'), ('same', 'JJ'), ('time', 'NN'), (':', ':'), ('the', 'DT'), ('rokade', 'NN')]\n",
      "[('the', 'DT'), ('king', 'NN'), ('is', 'VBZ'), ('the', 'DT'), ('most', 'RBS'), ('important', 'JJ'), ('time', 'NN'), ('of', 'IN'), ('the', 'DT'), ('game', 'NN'), (',', ','), ('and', 'CC'), ('one', 'CD'), ('must', 'MD'), ('never', 'RB'), ('make', 'VB'), ('moves', 'NNS'), ('so', 'RB'), ('that', 'IN'), ('the', 'DT'), ('king', 'NN'), ('is', 'VBZ'), ('in', 'IN'), ('check', 'NN'), ('at', 'IN'), ('the', 'DT'), ('end', 'NN'), ('of', 'IN'), ('a', 'DT'), ('move', 'NN')]\n",
      "[]\n",
      "[('if', 'IN'), ('certain', 'JJ'), ('conditions', 'NNS'), ('are', 'VBP'), ('met', 'VBN'), (',', ','), ('then', 'RB'), ('the', 'DT'), ('king', 'NN'), ('and', 'CC'), ('the', 'DT'), ('rook', 'NN'), ('can', 'MD'), ('perform', 'VB'), ('the', 'DT'), ('castling', 'NN'), ('move', 'NN')]\n",
      "[('this', 'DT'), ('is', 'VBZ'), ('a', 'DT'), ('special', 'JJ'), ('kind', 'NN'), ('of', 'IN'), ('move', 'NN'), (',', ','), ('where', 'WRB'), ('both', 'PDT'), ('the', 'DT'), ('king', 'NN'), ('and', 'CC'), ('the', 'DT'), ('rook', 'NN'), ('are', 'VBP'), ('moved', 'VBN')]\n",
      "[('each', 'DT'), ('of', 'IN'), ('the', 'DT'), ('following', 'JJ'), ('conditions', 'NNS'), ('must', 'MD'), ('be', 'VB'), ('met', 'VBN'), ('if', 'IN'), ('a', 'DT'), ('player', 'NN'), ('wants', 'VBZ'), ('to', 'TO'), ('cast', 'VB')]\n",
      "[('the', 'DT'), ('king', 'NN'), ('doing', 'VBG'), ('the', 'DT'), ('castling', 'NN'), ('has', 'VBZ'), ('not', 'RB'), ('yet', 'RB'), ('moved', 'VBN'), ('during', 'IN'), ('the', 'DT'), ('game', 'NN')]\n",
      "[('the', 'DT'), ('rook', 'NN'), ('doing', 'VBG'), ('the', 'DT'), ('castling', 'NN'), ('has', 'VBZ'), ('not', 'RB'), ('yet', 'RB'), ('moved', 'VBN'), ('during', 'IN'), ('the', 'DT'), ('game', 'NN')]\n",
      "[('the', 'DT'), ('king', 'NN'), ('is', 'VBZ'), ('not', 'RB'), ('in', 'IN'), ('check', 'NN')]\n",
      "[('the', 'DT'), ('king', 'NN'), ('does', 'VBZ'), ('not', 'RB'), ('cross', 'VB'), ('a', 'DT'), ('square', 'NN'), ('that', 'WDT'), ('is', 'VBZ'), ('attacked', 'VBN'), ('by', 'IN'), ('an', 'DT'), ('enemy', 'JJ'), ('piece', 'NN'), ('during', 'IN'), ('the', 'DT'), ('castling', 'NN'), (';', ':'), ('when', 'WRB'), ('a', 'DT'), ('player', 'NN'), ('casts', 'VBZ'), (',', ','), ('there', 'EX'), ('must', 'MD'), ('not', 'RB'), ('be', 'VB'), ('an', 'DT'), ('opponent', 'NN'), (\"'s\", 'POS'), ('piece', 'NN'), ('that', 'WDT'), ('can', 'MD'), ('move', 'VB'), ('to', 'TO'), ('a', 'DT'), ('square', 'NN'), ('that', 'IN'), ('the', 'DT'), ('king', 'NN'), ('crosses', 'NNS')]\n",
      "[('the', 'DT'), ('king', 'NN'), ('does', 'VBZ'), ('not', 'RB'), ('move', 'VB'), ('to', 'TO'), ('a', 'DT'), ('square', 'NN'), ('attacked', 'VBN'), ('by', 'IN'), ('an', 'DT'), ('enemy', 'JJ'), ('piece', 'NN'), (';', ':'), ('the', 'DT'), ('king', 'NN'), ('may', 'MD'), ('not', 'RB'), ('be', 'VB'), ('in', 'IN'), ('check', 'NN'), ('after', 'IN'), ('the', 'DT'), ('castling', 'NN')]\n",
      "[('all', 'DT'), ('squares', 'NNS'), ('between', 'IN'), ('the', 'DT'), ('rook', 'NN'), ('and', 'CC'), ('the', 'DT'), ('king', 'NN'), ('are', 'VBP'), ('empty', 'JJ'), ('for', 'IN'), ('the', 'DT'), ('castling', 'NN')]\n",
      "[('the', 'DT'), ('king', 'NN'), ('and', 'CC'), ('the', 'DT'), ('rook', 'NN'), ('are', 'VBP'), ('on', 'IN'), ('the', 'DT'), ('same', 'JJ'), ('row', 'NN')]\n",
      "[('at', 'IN'), ('the', 'DT'), ('castling', 'NN'), (',', ','), ('the', 'DT'), ('king', 'VBG'), ('moves', 'NNS'), ('two', 'CD'), ('spaces', 'NNS'), ('in', 'IN'), ('the', 'DT'), ('direction', 'NN'), ('of', 'IN'), ('the', 'DT'), ('rook', 'NN'), (',', ','), ('and', 'CC'), ('the', 'DT'), ('rook', 'NN'), ('moves', 'VBZ'), ('over', 'IN'), ('the', 'DT'), ('king', 'NN'), ('to', 'TO'), ('the', 'DT'), ('next', 'JJ'), ('space', 'NN')]\n",
      "[('the', 'DT'), ('white', 'JJ'), ('king', 'NN'), ('on', 'IN'), ('e1', 'NN'), ('and', 'CC'), ('the', 'DT'), ('rook', 'NN'), ('on', 'IN'), ('a1', 'NN'), ('go', 'VBP'), ('to', 'TO'), (':', ':'), ('king', 'NN'), ('c1', 'NN'), (',', ','), ('rook', 'VB'), ('d1', 'NN'), ('long', 'RB'), ('castling', 'NN'), (',', ','), ('the', 'DT'), ('white', 'JJ'), ('king', 'NN'), ('on', 'IN'), ('e1', 'NN'), ('and', 'CC'), ('the', 'DT'), ('white', 'JJ'), ('rook', 'NN'), ('on', 'IN'), ('d1', 'NN'), ('go', 'VBP'), ('to', 'TO'), (':', ':'), ('king', 'NN'), ('g1', 'NN'), (',', ','), ('rook', 'VB'), ('f1', 'JJ'), ('short', 'JJ'), ('castling', 'NN'), (';', ':'), ('similarly', 'RB'), ('for', 'IN'), ('black', 'JJ')]\n"
     ]
    },
    {
     "name": "stderr",
     "output_type": "stream",
     "text": [
      "[nltk_data] Downloading package punkt to C:\\Users\\Thomas\n",
      "[nltk_data]     Meeusen\\AppData\\Roaming\\nltk_data...\n",
      "[nltk_data]   Package punkt is already up-to-date!\n",
      "[nltk_data] Downloading package averaged_perceptron_tagger to\n",
      "[nltk_data]     C:\\Users\\Thomas Meeusen\\AppData\\Roaming\\nltk_data...\n",
      "[nltk_data]   Package averaged_perceptron_tagger is already up-to-\n",
      "[nltk_data]       date!\n"
     ]
    }
   ],
   "source": [
    "import nltk\n",
    "from nltk import CFG, grammar, parse, word_tokenize\n",
    "nltk.download('punkt')\n",
    "nltk.download('averaged_perceptron_tagger')\n",
    "from nltk import punkt\n",
    "from nltk.grammar import FeatureGrammar\n",
    "from nltk.parse import RecursiveDescentParser, FeatureEarleyChartParser\n",
    "from nltk.parse.generate import generate\n",
    "\n",
    "with open(\"chessrules.txt\", \"r\") as a_file:\n",
    "  for line in a_file:\n",
    "    stripped_line = line.strip()\n",
    "\n",
    "# Dit kan worden gebruikt om woorden te classificeren maar is alleen in engels geloof ik\n",
    "    text = word_tokenize(stripped_line)\n",
    "    print(nltk.pos_tag(text))\n",
    "\n",
    "\n"
   ],
   "metadata": {
    "collapsed": false,
    "pycharm": {
     "name": "#%%\n"
    }
   }
  },
  {
   "cell_type": "code",
   "execution_count": null,
   "outputs": [],
   "source": [
    "import nltk\n",
    "\n",
    "from nltk import CFG, grammar, parse, word_tokenize\n",
    "nltk.download('punkt')\n",
    "\n",
    "f = open('chessrules.txt')\n",
    "for line in f:\n",
    "    print(line.strip())\n",
    "\n"
   ],
   "metadata": {
    "collapsed": false,
    "pycharm": {
     "name": "#%%\n"
    }
   }
  }
 ],
 "metadata": {
  "kernelspec": {
   "name": "python3",
   "language": "python",
   "display_name": "Python 3"
  },
  "language_info": {
   "codemirror_mode": {
    "name": "ipython",
    "version": 2
   },
   "file_extension": ".py",
   "mimetype": "text/x-python",
   "name": "python",
   "nbconvert_exporter": "python",
   "pygments_lexer": "ipython2",
   "version": "2.7.6"
  }
 },
 "nbformat": 4,
 "nbformat_minor": 0
}