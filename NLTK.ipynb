{
 "cells": [
  {
   "cell_type": "code",
   "execution_count": 27,
   "metadata": {
    "collapsed": true
   },
   "outputs": [
    {
     "ename": "ValueError",
     "evalue": "Grammar does not cover some of the input words: \"'book', 'library'\".",
     "output_type": "error",
     "traceback": [
      "\u001B[0;31m---------------------------------------------------------------------------\u001B[0m",
      "\u001B[0;31mValueError\u001B[0m                                Traceback (most recent call last)",
      "\u001B[0;32m<ipython-input-27-fac45fc5a660>\u001B[0m in \u001B[0;36m<module>\u001B[0;34m\u001B[0m\n\u001B[1;32m     49\u001B[0m \u001B[0;31m# parse hier een string voor een parse tree en alternatieve zinnen\u001B[0m\u001B[0;34m\u001B[0m\u001B[0;34m\u001B[0m\u001B[0;34m\u001B[0m\u001B[0m\n\u001B[1;32m     50\u001B[0m \u001B[0mTest1_parser\u001B[0m \u001B[0;34m=\u001B[0m \u001B[0mFeatureEarleyChartParser\u001B[0m\u001B[0;34m(\u001B[0m\u001B[0mTest1\u001B[0m\u001B[0;34m)\u001B[0m\u001B[0;34m\u001B[0m\u001B[0;34m\u001B[0m\u001B[0m\n\u001B[0;32m---> 51\u001B[0;31m \u001B[0;32mfor\u001B[0m \u001B[0mt\u001B[0m \u001B[0;32min\u001B[0m \u001B[0mTest1_parser\u001B[0m\u001B[0;34m.\u001B[0m\u001B[0mparse\u001B[0m\u001B[0;34m(\u001B[0m\u001B[0;34m\"I returned a book to the library\"\u001B[0m\u001B[0;34m.\u001B[0m\u001B[0msplit\u001B[0m\u001B[0;34m(\u001B[0m\u001B[0;34m)\u001B[0m\u001B[0;34m)\u001B[0m\u001B[0;34m:\u001B[0m\u001B[0;34m\u001B[0m\u001B[0;34m\u001B[0m\u001B[0m\n\u001B[0m\u001B[1;32m     52\u001B[0m     \u001B[0mprint\u001B[0m\u001B[0;34m(\u001B[0m\u001B[0mt\u001B[0m\u001B[0;34m)\u001B[0m\u001B[0;34m\u001B[0m\u001B[0;34m\u001B[0m\u001B[0m\n\u001B[1;32m     53\u001B[0m \u001B[0;34m\u001B[0m\u001B[0m\n",
      "\u001B[0;32m~/Desktop/NLTK/venv/lib/python3.9/site-packages/nltk/parse/chart.py\u001B[0m in \u001B[0;36mparse\u001B[0;34m(self, tokens, tree_class)\u001B[0m\n\u001B[1;32m   1482\u001B[0m \u001B[0;34m\u001B[0m\u001B[0m\n\u001B[1;32m   1483\u001B[0m     \u001B[0;32mdef\u001B[0m \u001B[0mparse\u001B[0m\u001B[0;34m(\u001B[0m\u001B[0mself\u001B[0m\u001B[0;34m,\u001B[0m \u001B[0mtokens\u001B[0m\u001B[0;34m,\u001B[0m \u001B[0mtree_class\u001B[0m\u001B[0;34m=\u001B[0m\u001B[0mTree\u001B[0m\u001B[0;34m)\u001B[0m\u001B[0;34m:\u001B[0m\u001B[0;34m\u001B[0m\u001B[0;34m\u001B[0m\u001B[0m\n\u001B[0;32m-> 1484\u001B[0;31m         \u001B[0mchart\u001B[0m \u001B[0;34m=\u001B[0m \u001B[0mself\u001B[0m\u001B[0;34m.\u001B[0m\u001B[0mchart_parse\u001B[0m\u001B[0;34m(\u001B[0m\u001B[0mtokens\u001B[0m\u001B[0;34m)\u001B[0m\u001B[0;34m\u001B[0m\u001B[0;34m\u001B[0m\u001B[0m\n\u001B[0m\u001B[1;32m   1485\u001B[0m         \u001B[0;32mreturn\u001B[0m \u001B[0miter\u001B[0m\u001B[0;34m(\u001B[0m\u001B[0mchart\u001B[0m\u001B[0;34m.\u001B[0m\u001B[0mparses\u001B[0m\u001B[0;34m(\u001B[0m\u001B[0mself\u001B[0m\u001B[0;34m.\u001B[0m\u001B[0m_grammar\u001B[0m\u001B[0;34m.\u001B[0m\u001B[0mstart\u001B[0m\u001B[0;34m(\u001B[0m\u001B[0;34m)\u001B[0m\u001B[0;34m,\u001B[0m \u001B[0mtree_class\u001B[0m\u001B[0;34m=\u001B[0m\u001B[0mtree_class\u001B[0m\u001B[0;34m)\u001B[0m\u001B[0;34m)\u001B[0m\u001B[0;34m\u001B[0m\u001B[0;34m\u001B[0m\u001B[0m\n\u001B[1;32m   1486\u001B[0m \u001B[0;34m\u001B[0m\u001B[0m\n",
      "\u001B[0;32m~/Desktop/NLTK/venv/lib/python3.9/site-packages/nltk/parse/earleychart.py\u001B[0m in \u001B[0;36mchart_parse\u001B[0;34m(self, tokens, trace)\u001B[0m\n\u001B[1;32m    355\u001B[0m \u001B[0;34m\u001B[0m\u001B[0m\n\u001B[1;32m    356\u001B[0m         \u001B[0mtokens\u001B[0m \u001B[0;34m=\u001B[0m \u001B[0mlist\u001B[0m\u001B[0;34m(\u001B[0m\u001B[0mtokens\u001B[0m\u001B[0;34m)\u001B[0m\u001B[0;34m\u001B[0m\u001B[0;34m\u001B[0m\u001B[0m\n\u001B[0;32m--> 357\u001B[0;31m         \u001B[0mself\u001B[0m\u001B[0;34m.\u001B[0m\u001B[0m_grammar\u001B[0m\u001B[0;34m.\u001B[0m\u001B[0mcheck_coverage\u001B[0m\u001B[0;34m(\u001B[0m\u001B[0mtokens\u001B[0m\u001B[0;34m)\u001B[0m\u001B[0;34m\u001B[0m\u001B[0;34m\u001B[0m\u001B[0m\n\u001B[0m\u001B[1;32m    358\u001B[0m         \u001B[0mchart\u001B[0m \u001B[0;34m=\u001B[0m \u001B[0mself\u001B[0m\u001B[0;34m.\u001B[0m\u001B[0m_chart_class\u001B[0m\u001B[0;34m(\u001B[0m\u001B[0mtokens\u001B[0m\u001B[0;34m)\u001B[0m\u001B[0;34m\u001B[0m\u001B[0;34m\u001B[0m\u001B[0m\n\u001B[1;32m    359\u001B[0m         \u001B[0mgrammar\u001B[0m \u001B[0;34m=\u001B[0m \u001B[0mself\u001B[0m\u001B[0;34m.\u001B[0m\u001B[0m_grammar\u001B[0m\u001B[0;34m\u001B[0m\u001B[0;34m\u001B[0m\u001B[0m\n",
      "\u001B[0;32m~/Desktop/NLTK/venv/lib/python3.9/site-packages/nltk/grammar.py\u001B[0m in \u001B[0;36mcheck_coverage\u001B[0;34m(self, tokens)\u001B[0m\n\u001B[1;32m    673\u001B[0m         \u001B[0;32mif\u001B[0m \u001B[0mmissing\u001B[0m\u001B[0;34m:\u001B[0m\u001B[0;34m\u001B[0m\u001B[0;34m\u001B[0m\u001B[0m\n\u001B[1;32m    674\u001B[0m             \u001B[0mmissing\u001B[0m \u001B[0;34m=\u001B[0m \u001B[0;34m\", \"\u001B[0m\u001B[0;34m.\u001B[0m\u001B[0mjoin\u001B[0m\u001B[0;34m(\u001B[0m\u001B[0;34m\"%r\"\u001B[0m \u001B[0;34m%\u001B[0m \u001B[0;34m(\u001B[0m\u001B[0mw\u001B[0m\u001B[0;34m,\u001B[0m\u001B[0;34m)\u001B[0m \u001B[0;32mfor\u001B[0m \u001B[0mw\u001B[0m \u001B[0;32min\u001B[0m \u001B[0mmissing\u001B[0m\u001B[0;34m)\u001B[0m\u001B[0;34m\u001B[0m\u001B[0;34m\u001B[0m\u001B[0m\n\u001B[0;32m--> 675\u001B[0;31m             raise ValueError(\n\u001B[0m\u001B[1;32m    676\u001B[0m                 \u001B[0;34m\"Grammar does not cover some of the \"\u001B[0m \u001B[0;34m\"input words: %r.\"\u001B[0m \u001B[0;34m%\u001B[0m \u001B[0mmissing\u001B[0m\u001B[0;34m\u001B[0m\u001B[0;34m\u001B[0m\u001B[0m\n\u001B[1;32m    677\u001B[0m             )\n",
      "\u001B[0;31mValueError\u001B[0m: Grammar does not cover some of the input words: \"'book', 'library'\"."
     ]
    }
   ],
   "source": [
    "# libraries importeren\n",
    "import nltk\n",
    "from nltk import CFG, grammar, parse, word_tokenize\n",
    "from nltk.grammar import FeatureGrammar\n",
    "from nltk.parse import RecursiveDescentParser, FeatureEarleyChartParser\n",
    "from nltk.parse.generate import generate\n",
    "\n",
    "# functies uit huiswerk\n",
    "def check_sentence(parser, sentence):\n",
    "    print(\"--------------------------------------------------\")\n",
    "    print(\"Checking ife provided sentence matches the grammar:\")\n",
    "    print(sentence)\n",
    "    if isinstance(sentence, str):\n",
    "        sentence = sentence.split()\n",
    "    tree_found = False\n",
    "    results = parser.parse(sentence)\n",
    "    for tree in results:\n",
    "        tree_found = True\n",
    "        print(tree)\n",
    "    if not tree_found:\n",
    "        print(sentence, \"Does not match the provided grammar.\")\n",
    "    print(\"--------------------------------------------------\")\n",
    "    return tree_found\n",
    "\n",
    "Test1 = FeatureGrammar.fromstring(\n",
    "    \"\"\"\n",
    "    S -> NP VP\n",
    "    NP -> Det Nom\n",
    "    NP -> Pro\n",
    "    NP -> PN\n",
    "    Nom -> N\n",
    "    Nom -> Nom PP\n",
    "    VP -> V NP\n",
    "    VP -> V PP\n",
    "    VP -> V NP PP\n",
    "    PP -> P NP\n",
    "\n",
    "    N[NUM=sg] -> \"toren\"|\"koning\"|\"dame\"|\"pion\"|\"paard\"|\"loper\"|\"tegenstander\"|\"pat\"\n",
    "    N[NUM=pl] ->\n",
    "    V -> \"is\"| \"read\"|\"returned\"\n",
    "    Pro -> \"I\"|\"you\"\n",
    "    PN -> \"FST\"|\"Linguistics\"\n",
    "    Det -> \"the\"|\"this\"|\"a\"\n",
    "    P -> \"to\"|\"about\"|\"in\"|\"on\"\n",
    "\n",
    "\n",
    "    \"\"\"\n",
    ")\n",
    "# parse hier een string voor een parse tree en alternatieve zinnen\n",
    "Test1_parser = FeatureEarleyChartParser(Test1)\n",
    "for t in Test1_parser.parse(\"I returned a book to the library\".split()):\n",
    "    print(t)\n",
    "\n",
    "\n",
    "    for t in Test1_parser.parse(\"I returned a book to the library\".split()):print(t)\n",
    "\n",
    "    for s in generate(Test1, n = 10):\n",
    "       if len(list(Test1_parser.parse(s))) != 0:\n",
    "           print(' '.join(s))"
   ]
  },
  {
   "cell_type": "code",
   "execution_count": null,
   "outputs": [],
   "source": [
    "import nltk\n",
    "from nltk import CFG, grammar, parse, word_tokenize\n",
    "nltk.download('punkt')\n",
    "nltk.download('averaged_perceptron_tagger')\n",
    "from nltk import punkt\n",
    "from nltk.grammar import FeatureGrammar\n",
    "from nltk.parse import RecursiveDescentParser, FeatureEarleyChartParser\n",
    "from nltk.parse.generate import generate\n",
    "\n",
    "# Dit kan worden gebruikt om woorden te classificeren maar is alleen in engels geloof ik\n",
    "text = word_tokenize(\"The king and the queen\")\n",
    "nltk.pos_tag(text)"
   ],
   "metadata": {
    "collapsed": false,
    "pycharm": {
     "name": "#%%\n"
    }
   }
  },
  {
   "cell_type": "code",
   "execution_count": null,
   "outputs": [],
   "source": [
    "nltk.download('alpino')\n",
    "from nltk.tag import PerceptronTagger\n",
    "from nltk.corpus import alpino as alp\n",
    "training_corpus = list(alp.tagged_sents())\n",
    "tagger = PerceptronTagger(load=True)\n",
    "tagger.train(training_corpus)\n",
    "sent = 'NLTK is een goede taal voor het leren over NLP'.split()\n",
    "tagger.tag(sent)\n"
   ],
   "metadata": {
    "collapsed": false,
    "pycharm": {
     "name": "#%%\n"
    }
   }
  },
  {
   "cell_type": "code",
   "execution_count": 34,
   "outputs": [
    {
     "name": "stdout",
     "output_type": "stream",
     "text": [
      "﻿chess is a game played by two players\n",
      "one player plays with the white pieces and the other player plays with the black pieces\n",
      "each player has sixteen pieces at the beginning of the game: a king, a queen, two rooks, two bishops, two knights and eight pawns\n",
      "the game is played on a chessboard\n",
      "the chessboard has 64 fields: eight rows and eight columns\n",
      "the fields are alternately colored white and black\n",
      "the board must be laid out so that there is a black field in the lower left corner\n",
      "in order to record moves, all fields have been given names\n",
      "as seen from the white player's point of view, the rows are numbered 1, 2, 3, 4, 5, 6, 7, 8; the bottom row is numbered 1, and the top row is numbered 8\n",
      "the columns are named: a, b, c, d, e, f, g, h\n",
      "the name of a square consists of the combination of the letter of its column and the number of its row; for example, the square in the lower left corner (for white) is named a1\n",
      "\n",
      "the players take turns making a move, starting with the white player\n",
      "a move consists of moving one of the player's pieces to another square, according to the rules that say how that piece moves\n",
      "there is a special exception, which is the castling, where in one move two pieces are moved at the same time\n",
      "a player can capture an opponent's piece by moving one of his own pieces to the square that contains an opponent's piece\n",
      "the opponent's piece is then removed from the board and is out of play for the rest of the game capturing is not mandatory\n",
      "at the start of the game, the arrangement of the pieces is as follows\n",
      "\n",
      "so, on the second row there are eight white pawns; on the seventh row there are eight black pawns\n",
      "on the first row, from left to right, there are: a rook, knight, bishop, lady, king, bishop, knight and rook\n",
      "note that in the initial setup, ladies stand on squares of their own color, and each player has a black square in the lower left corner\n",
      "\n",
      "\n",
      "the tower moves in a straight horizontal or vertical line\n",
      "the tower may not jump over other pieces.\n",
      "all squares between the square where the tower begins its move and where the tower ends its move must be empty\n",
      "as with all pieces, if the square where the rook ends its move contains an opponent's piece, this piece is captured\n",
      "the square where the rook ends its move must not contain a piece belonging to the player who also has this tower\n",
      "\n",
      "the bishop moves in a straight diagonal line\n",
      "the runner may also not jump over other pieces\n",
      "\n",
      "the lady has the combined capabilities of the rook and bishop\n",
      "the lady can move in a horizontal, vertical or diagonal straight line\n",
      "again, the lady may not jump over other pieces\n",
      "\n",
      "the horse makes a move that consists of first one step in a horizontal or vertical direction and then one step diagonally ԯutward'\n",
      "the move can also be described as: two steps horizontally and one step vertically or two steps vertically and one step horizontally\n",
      "the horse jumps: it is allowed that the square which the horse passes in its move contains any piece\n",
      "for example, white can start the game by moving his knight from b1 to c3\n",
      "horses can jump over squares with a white piece, with a black piece, and also over empty squares\n",
      "when a horse jumps over a piece, it has no effect on the piece being jumped over; as with the other pieces, a horse captures an opponent's piece by moving to the square containing that piece\n",
      "\n",
      "the pawn's moves differ depending on whether the pawn moves to an empty square, or it captures an opponent's piece\n",
      "when a pawn does not capture, it moves one step straight ahead\n",
      "if a pawn has not yet run at all, the pawn is still on the second row, then the pawn may take a double step straight forward\n",
      "for example, a pawn or d2 can be moved to d4, provided field d3 is empty\n",
      "the pawn strikes one space diagonally forward.\n",
      "\n",
      "\n",
      "the king moves a square in any direction: horizontally, vertically or diagonally\n",
      "there is a special type of move, which is done by a king and a rook at the same time: the rokade\n",
      "the king is the most important time of the game, and one must never make moves so that the king is in check at the end of a move\n",
      "\n",
      "if certain conditions are met, then the king and the rook can perform the castling move\n",
      "this is a special kind of move, where both the king and the rook are moved\n",
      "each of the following conditions must be met if a player wants to cast\n",
      "the king doing the castling has not yet moved during the game\n",
      "the rook doing the castling has not yet moved during the game\n",
      "the king is not in check\n",
      "the king does not cross a square that is attacked by an enemy piece during the castling; when a player casts, there must not be an opponent's piece that can move to a square that the king crosses\n",
      "the king does not move to a square attacked by an enemy piece; the king may not be in check after the castling\n",
      "all squares between the rook and the king are empty for the castling\n",
      "the king and the rook are on the same row\n",
      "at the castling, the king moves two spaces in the direction of the rook, and the rook moves over the king to the next space\n",
      "the white king on e1 and the rook on a1 go to: king c1, rook d1 long castling, the white king on e1 and the white rook on d1 go to: king g1, rook f1 short castling; similarly for black\n"
     ]
    },
    {
     "name": "stderr",
     "output_type": "stream",
     "text": [
      "[nltk_data] Error loading punkt: <urlopen error [SSL:\n",
      "[nltk_data]     CERTIFICATE_VERIFY_FAILED] certificate verify failed:\n",
      "[nltk_data]     unable to get local issuer certificate (_ssl.c:1123)>\n"
     ]
    }
   ],
   "source": [
    "import nltk\n",
    "import feedparser\n",
    "from nltk import CFG, grammar, parse, word_tokenize\n",
    "nltk.download('punkt')\n",
    "\n",
    "f = open('chessrules.txt')\n",
    "for line in f:\n",
    "    print(line.strip())\n",
    "\n"
   ],
   "metadata": {
    "collapsed": false,
    "pycharm": {
     "name": "#%%\n"
    }
   }
  }
 ],
 "metadata": {
  "kernelspec": {
   "name": "python3",
   "language": "python",
   "display_name": "Python 3"
  },
  "language_info": {
   "codemirror_mode": {
    "name": "ipython",
    "version": 2
   },
   "file_extension": ".py",
   "mimetype": "text/x-python",
   "name": "python",
   "nbconvert_exporter": "python",
   "pygments_lexer": "ipython2",
   "version": "2.7.6"
  }
 },
 "nbformat": 4,
 "nbformat_minor": 0
}